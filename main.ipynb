{
 "cells": [
  {
   "cell_type": "code",
   "execution_count": 1,
   "metadata": {},
   "outputs": [],
   "source": [
    "import numpy as np\n",
    "import torch\n",
    "from torch.utils.data import DataLoader\n",
    "from torchvision import transforms\n",
    "from loader import CustomDataset\n",
    "from unet import *\n",
    "from matplotlib.pyplot import imshow\n",
    "import matplotlib.pyplot as plt\n",
    "from datetime import datetime\n",
    "#from sacred import Experiment\n",
    "from tqdm import tqdm\n",
    "import os\n",
    "from utils import *\n",
    "from octave_unet import OctaveUnet"
   ]
  },
  {
   "cell_type": "code",
   "execution_count": 2,
   "metadata": {},
   "outputs": [
    {
     "name": "stdout",
     "output_type": "stream",
     "text": [
      "Running on  cuda:0\n"
     ]
    }
   ],
   "source": [
    "ROOT = \"home/kakran/cityscapes-semantic-segmentation/\"\n",
    "bs = 1\n",
    "lr = 0.001\n",
    "device = 'cuda:0' if torch.cuda.is_available() else 'cpu'\n",
    "print(\"Running on \", device)"
   ]
  },
  {
   "cell_type": "code",
   "execution_count": 3,
   "metadata": {},
   "outputs": [],
   "source": [
    "train_data = CustomDataset(mode = 'train')\n",
    "validation_data = CustomDataset(mode = 'val')\n",
    "test_data = CustomDataset(mode = 'test')\n",
    "num_classes = train_data.classes   # classes = 4, (background, sky, car, road)"
   ]
  },
  {
   "cell_type": "code",
   "execution_count": null,
   "metadata": {},
   "outputs": [],
   "source": []
  },
  {
   "cell_type": "code",
   "execution_count": 4,
   "metadata": {},
   "outputs": [],
   "source": [
    "# creating dataloaders for train, val, test\n",
    "train_loader = DataLoader(train_data, batch_size= bs, num_workers=10, shuffle= True, pin_memory=True)\n",
    "val_loader = DataLoader(validation_data, batch_size= bs, num_workers=10, shuffle= True, pin_memory=True)\n",
    "test_loader = DataLoader(test_data, batch_size= bs, num_workers=4, pin_memory=True)\n",
    "\n",
    "dataset_sizes = {'train': len(train_data), 'val':len(validation_data), 'test':len(test_data)}\n",
    "loaders = {'train': train_loader, 'val':val_loader, 'test':test_loader}\n",
    "\n"
   ]
  },
  {
   "cell_type": "code",
   "execution_count": 5,
   "metadata": {},
   "outputs": [
    {
     "data": {
      "text/plain": [
       "<matplotlib.image.AxesImage at 0x7f932667e7b8>"
      ]
     },
     "execution_count": 5,
     "metadata": {},
     "output_type": "execute_result"
    },
    {
     "data": {
      "image/png": "[encoded data removed]",
      "text/plain": [
       "<Figure size 432x288 with 1 Axes>"
      ]
     },
     "metadata": {
      "needs_background": "light"
     },
     "output_type": "display_data"
    }
   ],
   "source": [
    "%matplotlib inline\n",
    "im, mask_rgb, mask = next(iter(loaders['train']))\n",
    "# the input image\n",
    "imshow(np.transpose(im[0].numpy(), (1,2,0)), interpolation='nearest')"
   ]
  },
  {
   "cell_type": "code",
   "execution_count": 6,
   "metadata": {},
   "outputs": [
    {
     "data": {
      "text/plain": [
       "<matplotlib.image.AxesImage at 0x7f9305581fd0>"
      ]
     },
     "execution_count": 6,
     "metadata": {},
     "output_type": "execute_result"
    },
    {
     "data": {
      "image/png": "[encoded data removed]",
      "text/plain": [
       "<Figure size 432x288 with 1 Axes>"
      ]
     },
     "metadata": {
      "needs_background": "light"
     },
     "output_type": "display_data"
    }
   ],
   "source": [
    "# mask for the image with 4 classes \n",
    "imshow(mask[0].numpy())"
   ]
  },
  {
   "cell_type": "code",
   "execution_count": 7,
   "metadata": {},
   "outputs": [],
   "source": [
    "# initialize Unet network\n",
    "network = OctaveUnet(num_classes).to(device)"
   ]
  },
  {
   "cell_type": "code",
   "execution_count": null,
   "metadata": {},
   "outputs": [],
   "source": []
  },
  {
   "cell_type": "code",
   "execution_count": 8,
   "metadata": {},
   "outputs": [],
   "source": [
    "optimizer = torch.optim.Adam(network.parameters(), lr=lr)\n",
    "\n",
    "def define_loss(loss):\n",
    "    \"\"\"Define loss from 3 available losses.\n",
    "    Return loss and dir_type to save output images and checkpoints\"\"\"\n",
    "    \n",
    "    if loss is \"cross_entropy\":\n",
    "        # directly cross entropy loss could be used without the need of taking argmax over each pixel. It applies softmax over each pixel\n",
    "        # and calculates loss for it over all classes. \n",
    "        criterion = nn.CrossEntropyLoss()\n",
    "        dir_type = \"cross_entropy\"\n",
    "    elif loss is \"IoU\":\n",
    "        criterion = IoULoss()\n",
    "        dir_type = \"IoU\"\n",
    "    elif loss is 'dice':\n",
    "        # dice loss\n",
    "        criterion = SoftDiceLoss()\n",
    "        dir_type = \"dice\"\n",
    "    else:\n",
    "        print('Select appropriate loss!')\n",
    "        return None, None\n",
    "    \n",
    "    return criterion, dir_type"
   ]
  },
  {
   "cell_type": "code",
   "execution_count": 9,
   "metadata": {},
   "outputs": [],
   "source": [
    "\n",
    "def classes_to_rgb( mask):\n",
    "        '''Converts a class ids encoded mask to rgb encoded mask'''\n",
    "        \n",
    "        class_to_ids = {v:train_data.mappingrgb[k] for k,v in (train_data.mapping).items()} \n",
    "        target_im = torch.zeros((3, mask.shape[0], mask.shape[1]), dtype = torch.uint8)\n",
    "        for k in class_to_ids:\n",
    "            target_im[0][mask == k] = class_to_ids[k][0]\n",
    "            target_im[1][mask == k] = class_to_ids[k][1]\n",
    "            target_im[2][mask == k] = class_to_ids[k][2]\n",
    "            \n",
    "        return target_im"
   ]
  },
  {
   "cell_type": "code",
   "execution_count": 10,
   "metadata": {},
   "outputs": [],
   "source": [
    "def train(epochs, network, criterion, optimizer, loaders, dataset_sizes, dir_type):\n",
    "    training_losses = []\n",
    "    val_losses = []\n",
    "    for epoch in range(epochs):\n",
    "        \n",
    "        network = network.train()\n",
    "        running_loss = 0.0\n",
    "        for idx, (im, mask_rgb, mask ) in tqdm(enumerate(loaders['train']), ascii = True, desc = \"Training\"):\n",
    "\n",
    "            optimizer.zero_grad()\n",
    "\n",
    "            im = im.to(device)\n",
    "            mask = mask.to(device)\n",
    "            mask_rgb = mask_rgb.to(device)\n",
    "\n",
    "            out = network(im)\n",
    "            if dir_type in ('dice', 'IoU'):\n",
    "                out = torch.softmax(out, dim = 1)\n",
    "            loss = criterion(out, mask)\n",
    "            loss.backward()\n",
    "\n",
    "            optimizer.step()\n",
    "            \n",
    "            running_loss += loss.item() * im.shape[0]\n",
    "            \n",
    "            \n",
    "        # calculate total loss for each epoch\n",
    "        print('Epoch {}, loss on training set :{}'.format(epoch, running_loss/dataset_sizes['train']))\n",
    "        training_losses.append(running_loss/dataset_sizes['train'])\n",
    "        \n",
    "        # on each epoch check the results on validation set\n",
    "        if epoch%1 == 0:\n",
    "            val_loss = 0\n",
    "            snapshot(network, optimizer, criterion,dir_type, suffix = epoch)\n",
    "            with torch.no_grad():\n",
    "                \n",
    "                # choose a random image to save from validation set\n",
    "                random = np.random.randint(0,500)\n",
    "                for idx, (im, mask_rgb, mask) in tqdm(enumerate(loaders['val']), ascii = True, desc = \"Validating\"):\n",
    "\n",
    "                    im = im.to(device)\n",
    "                    mask = mask.to(device)\n",
    "\n",
    "                    out = network(im)\n",
    "                    if dir_type in ('dice', 'IoU'):\n",
    "                        out = torch.softmax(out, dim = 1)\n",
    "                    loss = criterion(out, mask)\n",
    "                    \n",
    "                    if idx == random and epoch%4 == 0:\n",
    "                        out = torch.argmax(out.squeeze(), dim = 0)\n",
    "                        out = classes_to_rgb(out)\n",
    "                        \n",
    "                        # save original im, actual mask and generated mask \n",
    "                        save_image(im, filename = 'original_im_epoch_{}.png'.format(epoch), dir_type = dir_type)\n",
    "                        save_mask(out, filename = 'output_mask_epoch_{}.png'.format(epoch),dir_type = dir_type)\n",
    "                        save_image(mask_rgb, filename = 'actual_mask_epoch_{}.png'.format(epoch),dir_type = dir_type)\n",
    "                    \n",
    "                    val_loss += loss.item() * im.shape[0]\n",
    "                \n",
    "            val_losses.append(val_loss/dataset_sizes['val'])\n",
    "            print(\"Epoch {}, loss on validation set :{}\".format(epoch, val_loss/dataset_sizes['val']))\n",
    "            \n",
    "    # return all training and val losses\n",
    "    return training_losses, val_losses"
   ]
  },
  {
   "cell_type": "code",
   "execution_count": 11,
   "metadata": {},
   "outputs": [
    {
     "name": "stderr",
     "output_type": "stream",
     "text": [
      "Training: 2975it [26:09,  1.90it/s]\n"
     ]
    },
    {
     "name": "stdout",
     "output_type": "stream",
     "text": [
      "Epoch 0, loss on training set :0.052465553013999175\n"
     ]
    },
    {
     "name": "stderr",
     "output_type": "stream",
     "text": [
      "Validating: 500it [01:34,  5.46it/s]"
     ]
    },
    {
     "name": "stdout",
     "output_type": "stream",
     "text": [
      "Epoch 0, loss on validation set :0.016943716365844012\n"
     ]
    },
    {
     "name": "stderr",
     "output_type": "stream",
     "text": [
      "\n",
      "Training: 2975it [26:08,  1.91it/s]\n"
     ]
    },
    {
     "name": "stdout",
     "output_type": "stream",
     "text": [
      "Epoch 1, loss on training set :0.020839805272994796\n"
     ]
    },
    {
     "name": "stderr",
     "output_type": "stream",
     "text": [
      "Validating: 500it [01:33,  5.47it/s]"
     ]
    },
    {
     "name": "stdout",
     "output_type": "stream",
     "text": [
      "Epoch 1, loss on validation set :0.05439526088628918\n"
     ]
    },
    {
     "name": "stderr",
     "output_type": "stream",
     "text": [
      "\n",
      "Training: 2975it [26:07,  1.91it/s]\n"
     ]
    },
    {
     "name": "stdout",
     "output_type": "stream",
     "text": [
      "Epoch 2, loss on training set :0.015198658418708613\n"
     ]
    },
    {
     "name": "stderr",
     "output_type": "stream",
     "text": [
      "Validating: 500it [01:33,  5.49it/s]"
     ]
    },
    {
     "name": "stdout",
     "output_type": "stream",
     "text": [
      "Epoch 2, loss on validation set :0.03310753069911152\n"
     ]
    },
    {
     "name": "stderr",
     "output_type": "stream",
     "text": [
      "\n",
      "Training: 2975it [26:07,  1.90it/s]\n"
     ]
    },
    {
     "name": "stdout",
     "output_type": "stream",
     "text": [
      "Epoch 3, loss on training set :0.012487105991722655\n"
     ]
    },
    {
     "name": "stderr",
     "output_type": "stream",
     "text": [
      "Validating: 500it [01:33,  5.48it/s]"
     ]
    },
    {
     "name": "stdout",
     "output_type": "stream",
     "text": [
      "Epoch 3, loss on validation set :0.010178432767279446\n"
     ]
    },
    {
     "name": "stderr",
     "output_type": "stream",
     "text": [
      "\n",
      "Training: 2975it [26:07,  1.91it/s]\n"
     ]
    },
    {
     "name": "stdout",
     "output_type": "stream",
     "text": [
      "Epoch 4, loss on training set :0.011748665522298769\n"
     ]
    },
    {
     "name": "stderr",
     "output_type": "stream",
     "text": [
      "Validating: 500it [01:34,  5.49it/s]"
     ]
    },
    {
     "name": "stdout",
     "output_type": "stream",
     "text": [
      "Epoch 4, loss on validation set :0.010861535956617445\n"
     ]
    },
    {
     "name": "stderr",
     "output_type": "stream",
     "text": [
      "\n",
      "Training: 2975it [26:07,  1.90it/s]\n"
     ]
    },
    {
     "name": "stdout",
     "output_type": "stream",
     "text": [
      "Epoch 5, loss on training set :0.008485936944435562\n"
     ]
    },
    {
     "name": "stderr",
     "output_type": "stream",
     "text": [
      "Validating: 500it [01:33,  5.49it/s]"
     ]
    },
    {
     "name": "stdout",
     "output_type": "stream",
     "text": [
      "Epoch 5, loss on validation set :0.005992925588507205\n"
     ]
    },
    {
     "name": "stderr",
     "output_type": "stream",
     "text": [
      "\n",
      "Training: 2975it [26:07,  1.90it/s]\n"
     ]
    },
    {
     "name": "stdout",
     "output_type": "stream",
     "text": [
      "Epoch 6, loss on training set :0.010378483975572245\n"
     ]
    },
    {
     "name": "stderr",
     "output_type": "stream",
     "text": [
      "Validating: 500it [01:33,  5.47it/s]"
     ]
    },
    {
     "name": "stdout",
     "output_type": "stream",
     "text": [
      "Epoch 6, loss on validation set :0.006147114492719993\n"
     ]
    },
    {
     "name": "stderr",
     "output_type": "stream",
     "text": [
      "\n",
      "Training: 2975it [26:07,  1.91it/s]\n"
     ]
    },
    {
     "name": "stdout",
     "output_type": "stream",
     "text": [
      "Epoch 7, loss on training set :0.005222548146207794\n"
     ]
    },
    {
     "name": "stderr",
     "output_type": "stream",
     "text": [
      "Validating: 500it [01:33,  5.48it/s]"
     ]
    },
    {
     "name": "stdout",
     "output_type": "stream",
     "text": [
      "Epoch 7, loss on validation set :0.010363397627137602\n"
     ]
    },
    {
     "name": "stderr",
     "output_type": "stream",
     "text": [
      "\n",
      "Training: 2975it [26:06,  1.91it/s]\n"
     ]
    },
    {
     "name": "stdout",
     "output_type": "stream",
     "text": [
      "Epoch 8, loss on training set :0.00800683609155171\n"
     ]
    },
    {
     "name": "stderr",
     "output_type": "stream",
     "text": [
      "Validating: 500it [01:34,  5.47it/s]"
     ]
    },
    {
     "name": "stdout",
     "output_type": "stream",
     "text": [
      "Epoch 8, loss on validation set :0.00551509025041014\n"
     ]
    },
    {
     "name": "stderr",
     "output_type": "stream",
     "text": [
      "\n",
      "Training: 2975it [26:06,  1.91it/s]\n"
     ]
    },
    {
     "name": "stdout",
     "output_type": "stream",
     "text": [
      "Epoch 9, loss on training set :0.006967111758011229\n"
     ]
    },
    {
     "name": "stderr",
     "output_type": "stream",
     "text": [
      "Validating: 500it [01:33,  5.47it/s]"
     ]
    },
    {
     "name": "stdout",
     "output_type": "stream",
     "text": [
      "Epoch 9, loss on validation set :0.005269239630084485\n",
      "\n",
      " Total time taken 4:37:09.075597\n"
     ]
    },
    {
     "name": "stderr",
     "output_type": "stream",
     "text": [
      "\n"
     ]
    }
   ],
   "source": [
    "start = datetime.now()\n",
    "epochs = 10\n",
    "criterion , dir_type = define_loss(\"cross_entropy\")\n",
    "train_loss, val_loss = train(epochs, network, criterion, optimizer, loaders, dataset_sizes, dir_type)\n",
    "end = datetime.now()\n",
    "print(\"\\n Total time taken\", end - start)"
   ]
  },
  {
   "cell_type": "code",
   "execution_count": 12,
   "metadata": {},
   "outputs": [
    {
     "data": {
      "text/plain": [
       "<matplotlib.legend.Legend at 0x7f9300d66c88>"
      ]
     },
     "execution_count": 12,
     "metadata": {},
     "output_type": "execute_result"
    },
    {
     "data": {
      "image/png": "[encoded data removed]",
      "text/plain": [
       "<Figure size 432x288 with 1 Axes>"
      ]
     },
     "metadata": {
      "needs_background": "light"
     },
     "output_type": "display_data"
    }
   ],
   "source": [
    "plt.plot(train_loss)\n",
    "plt.plot(val_loss)\n",
    "plt.legend((\"Training loss\", \"Validation loss\"))"
   ]
  },
  {
   "cell_type": "code",
   "execution_count": null,
   "metadata": {},
   "outputs": [],
   "source": []
  },
  {
   "cell_type": "code",
   "execution_count": 25,
   "metadata": {},
   "outputs": [],
   "source": [
    "# model and optimizer could be loaded from saved checkpoints in case of evaluation on test data\n",
    "model, optim = load_model(epochs)\n",
    "model = model.eval()"
   ]
  },
  {
   "cell_type": "code",
   "execution_count": null,
   "metadata": {},
   "outputs": [],
   "source": []
  },
  {
   "cell_type": "code",
   "execution_count": null,
   "metadata": {},
   "outputs": [],
   "source": []
  }
 ],
 "metadata": {
  "kernelspec": {
   "display_name": "Python 3",
   "language": "python",
   "name": "python3"
  },
  "language_info": {
   "codemirror_mode": {
    "name": "ipython",
    "version": 3
   },
   "file_extension": ".py",
   "mimetype": "text/x-python",
   "name": "python",
   "nbconvert_exporter": "python",
   "pygments_lexer": "ipython3",
   "version": "3.6.7"
  }
 },
 "nbformat": 4,
 "nbformat_minor": 4
}
